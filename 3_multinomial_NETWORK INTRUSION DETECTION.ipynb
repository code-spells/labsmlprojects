{
 "cells": [
  {
   "cell_type": "code",
   "execution_count": 95,
   "metadata": {},
   "outputs": [],
   "source": [
    "import numpy as np\n",
    "import pandas as pd"
   ]
  },
  {
   "cell_type": "code",
   "execution_count": 96,
   "metadata": {},
   "outputs": [],
   "source": [
    "network_data = pd.read_csv(\"E:\\data_science_classes\\Train.txt\", header = None)\n",
    "network_test = pd.read_csv(\"E:\\data_science_classes\\Test.txt\", header = None)"
   ]
  },
  {
   "cell_type": "code",
   "execution_count": 97,
   "metadata": {},
   "outputs": [],
   "source": [
    "list_col = [\"duration\",\"protocol_type\",\"service\",\"flag\",\"src_bytes\",\"dst_bytes\",\"land\", \"wrong_fragment\",\"urgent\",\"hot\",\"num_failed_logins\",\"logged_in\", \"num_compromised\",\"root_shell\",\"su_attempted\",\"num_root\",\"num_file_creations\", \"num_shells\",\"num_access_files\",\"num_outbound_cmds\",\"is_host_login\", \"is_guest_login\",\"count\",\"srv_count\",\"serror_rate\", \"srv_serror_rate\", \"rerror_rate\",\"srv_rerror_rate\",\"same_srv_rate\", \"diff_srv_rate\",\n",
    "\"srv_diff_host_rate\",\"dst_host_count\",\"dst_host_srv_count\",\"dst_host_same_srv_rate\", \"dst_host_diff_srv_rate\",\"dst_host_same_src_port_rate\", \"dst_host_srv_diff_host_rate\",\"dst_host_serror_rate\",\"dst_host_srv_serror_rate\", \"dst_host_rerror_rate\",\"dst_host_srv_rerror_rate\",\"attack\", \"last_flag\"]"
   ]
  },
  {
   "cell_type": "code",
   "execution_count": 98,
   "metadata": {},
   "outputs": [],
   "source": [
    "network_data.rename(columns= { k:v for (k,v) in zip(network_data.columns, list_col)}, inplace = True)\n",
    "network_test.rename(columns= { k:v for (k,v) in zip(network_test.columns, list_col)}, inplace = True)"
   ]
  },
  {
   "cell_type": "code",
   "execution_count": 100,
   "metadata": {},
   "outputs": [],
   "source": [
    "dos =[\"back\", \"land\" , \"neptune\", \"pod\", \"smurf\", \"teardrop\", \"apache2\", \"udpstorm\", \"processtable\", \"worm\"] \n",
    "probe = [\"satan\",\"ipsweep\", \"nmap\", \"portsweep\", \"mscan\", \"saint\"]\n",
    "r2l =[\"guess_passwd\",\"ftp_write\",\"imap\",\"phf\",\"multihop\",\"warezmaster\",\"warezclient\",\"spy\",\"xlock\",\"xsnoop\",\"snmpguess\",\"snmpgetattack\",\"httptunnel\",\"sendmail\",\"named\"]\n",
    "u2r = [\"buffer_overflow\", \"loadmodule\", \"rootkit\", \"perl\",\"sqlattack\", \"xterm\",\"ps\",\"mailbomb\"]"
   ]
  },
  {
   "cell_type": "code",
   "execution_count": 101,
   "metadata": {},
   "outputs": [],
   "source": [
    "for i in list(network_data.index):\n",
    "    if list(network_data.loc[[i],[\"attack\"]].attack)[0] == \"normal\":\n",
    "        network_data.loc[[i],[\"attack\"]] = 0 \n",
    "    elif  list(network_data.loc[[i],[\"attack\"]].attack)[0] in dos:\n",
    "        network_data.loc[[i],[\"attack\"]] = 1\n",
    "    elif list(network_data.loc[[i],[\"attack\"]].attack)[0] in probe:\n",
    "        network_data.loc[[i],[\"attack\"]] = 2\n",
    "    elif list(network_data.loc[[i],[\"attack\"]].attack)[0] in r2l:\n",
    "        network_data.loc[[i],[\"attack\"]] = 3\n",
    "    elif list(network_data.loc[[i],[\"attack\"]].attack)[0] in u2r:\n",
    "        network_data.loc[[i],[\"attack\"]] = 4"
   ]
  },
  {
   "cell_type": "code",
   "execution_count": 102,
   "metadata": {},
   "outputs": [],
   "source": [
    "for i in list(network_test.index):\n",
    "    if list(network_test.loc[[i],[\"attack\"]].attack)[0] == \"normal\":\n",
    "        network_test.loc[[i],[\"attack\"]] = 0 \n",
    "    elif list(network_test.loc[[i],[\"attack\"]].attack)[0] in dos:\n",
    "        network_test.loc[[i],[\"attack\"]] = 1\n",
    "    elif list(network_test.loc[[i],[\"attack\"]].attack)[0] in probe:\n",
    "        network_test.loc[[i],[\"attack\"]] = 2\n",
    "    elif list(network_test.loc[[i],[\"attack\"]].attack)[0] in r2l:\n",
    "        network_test.loc[[i],[\"attack\"]] = 3\n",
    "    elif list(network_test.loc[[i],[\"attack\"]].attack)[0] in u2r:\n",
    "        network_test.loc[[i],[\"attack\"]] = 4"
   ]
  },
  {
   "cell_type": "code",
   "execution_count": 111,
   "metadata": {},
   "outputs": [],
   "source": [
    "cat_col = []\n",
    "num_col = []\n",
    "for i in network_data.columns:\n",
    "    if network_data[i].dtype.name in ['object']:\n",
    "        cat_col.append(i)\n",
    "    else:\n",
    "        num_col.append(i)\n",
    "num_col.remove(\"attack\")"
   ]
  },
  {
   "cell_type": "code",
   "execution_count": 104,
   "metadata": {},
   "outputs": [],
   "source": [
    "def outlier_treat(x,y):\n",
    "    for i in x:\n",
    "            y[i]= y[i].clip_upper(y[i].quantile(0.99)) \n",
    "            y[i]= y[i].clip_lower(y[i].quantile(0.01))     \n",
    "outlier_treat(num_col,network_data)\n",
    "outlier_treat(num_col,network_test)"
   ]
  },
  {
   "cell_type": "code",
   "execution_count": 106,
   "metadata": {},
   "outputs": [],
   "source": [
    "def drop_0(j):\n",
    "    zeros_col = []\n",
    "    for i in j.columns:\n",
    "        k = list(j[i].value_counts())\n",
    "        if len(k)==1:\n",
    "            j.drop(i, axis = 1, inplace = True)\n",
    "drop_0(network_data)"
   ]
  },
  {
   "cell_type": "code",
   "execution_count": 107,
   "metadata": {},
   "outputs": [
    {
     "data": {
      "text/plain": [
       "(125973, 30)"
      ]
     },
     "execution_count": 107,
     "metadata": {},
     "output_type": "execute_result"
    }
   ],
   "source": [
    "network_data.shape"
   ]
  },
  {
   "cell_type": "code",
   "execution_count": 108,
   "metadata": {},
   "outputs": [],
   "source": [
    "network_test = network_test[network_data.columns]"
   ]
  },
  {
   "cell_type": "code",
   "execution_count": 109,
   "metadata": {},
   "outputs": [
    {
     "data": {
      "text/html": [
       "<div>\n",
       "<style scoped>\n",
       "    .dataframe tbody tr th:only-of-type {\n",
       "        vertical-align: middle;\n",
       "    }\n",
       "\n",
       "    .dataframe tbody tr th {\n",
       "        vertical-align: top;\n",
       "    }\n",
       "\n",
       "    .dataframe thead th {\n",
       "        text-align: right;\n",
       "    }\n",
       "</style>\n",
       "<table border=\"1\" class=\"dataframe\">\n",
       "  <thead>\n",
       "    <tr style=\"text-align: right;\">\n",
       "      <th></th>\n",
       "      <th>Variable</th>\n",
       "      <th>ChiSquare</th>\n",
       "      <th>P-Value</th>\n",
       "    </tr>\n",
       "  </thead>\n",
       "  <tbody>\n",
       "    <tr>\n",
       "      <th>0</th>\n",
       "      <td>protocol_type</td>\n",
       "      <td>25578.4</td>\n",
       "      <td>0</td>\n",
       "    </tr>\n",
       "    <tr>\n",
       "      <th>1</th>\n",
       "      <td>service</td>\n",
       "      <td>156819</td>\n",
       "      <td>0</td>\n",
       "    </tr>\n",
       "    <tr>\n",
       "      <th>2</th>\n",
       "      <td>flag</td>\n",
       "      <td>120935</td>\n",
       "      <td>0</td>\n",
       "    </tr>\n",
       "  </tbody>\n",
       "</table>\n",
       "</div>"
      ],
      "text/plain": [
       "        Variable ChiSquare P-Value\n",
       "0  protocol_type   25578.4       0\n",
       "1        service    156819       0\n",
       "2           flag    120935       0"
      ]
     },
     "execution_count": 109,
     "metadata": {},
     "output_type": "execute_result"
    }
   ],
   "source": [
    "## Categorical Variable chi square test for variable selection\n",
    "import scipy.stats as stats\n",
    "chisq_df = pd.DataFrame()\n",
    "for i in cat_col:\n",
    "    cross_tab = pd.crosstab(network_data[i],network_data['attack'], margins=False)\n",
    "    stats.chi2_contingency(observed=cross_tab)[1]\n",
    "    temp = pd.DataFrame([i,stats.chi2_contingency(observed=cross_tab)[0],stats.chi2_contingency(observed=cross_tab)[1]]).T\n",
    "    temp.columns = ['Variable', 'ChiSquare','P-Value']\n",
    "    chisq_df = pd.concat([chisq_df, temp], axis=0, ignore_index=True)\n",
    "chisq_df"
   ]
  },
  {
   "cell_type": "code",
   "execution_count": 112,
   "metadata": {
    "scrolled": true
   },
   "outputs": [
    {
     "data": {
      "text/html": [
       "<div>\n",
       "<style scoped>\n",
       "    .dataframe tbody tr th:only-of-type {\n",
       "        vertical-align: middle;\n",
       "    }\n",
       "\n",
       "    .dataframe tbody tr th {\n",
       "        vertical-align: top;\n",
       "    }\n",
       "\n",
       "    .dataframe thead th {\n",
       "        text-align: right;\n",
       "    }\n",
       "</style>\n",
       "<table border=\"1\" class=\"dataframe\">\n",
       "  <thead>\n",
       "    <tr style=\"text-align: right;\">\n",
       "      <th></th>\n",
       "      <th>Variable Name</th>\n",
       "      <th>T-Statistic</th>\n",
       "      <th>P-Value</th>\n",
       "    </tr>\n",
       "  </thead>\n",
       "  <tbody>\n",
       "    <tr>\n",
       "      <th>0</th>\n",
       "      <td>duration</td>\n",
       "      <td>-30.7718</td>\n",
       "      <td>4.49334e-207</td>\n",
       "    </tr>\n",
       "    <tr>\n",
       "      <th>1</th>\n",
       "      <td>src_bytes</td>\n",
       "      <td>3.17437</td>\n",
       "      <td>0.00150201</td>\n",
       "    </tr>\n",
       "    <tr>\n",
       "      <th>2</th>\n",
       "      <td>dst_bytes</td>\n",
       "      <td>-95.2909</td>\n",
       "      <td>0</td>\n",
       "    </tr>\n",
       "    <tr>\n",
       "      <th>3</th>\n",
       "      <td>hot</td>\n",
       "      <td>-3.74601</td>\n",
       "      <td>0.00017976</td>\n",
       "    </tr>\n",
       "    <tr>\n",
       "      <th>4</th>\n",
       "      <td>logged_in</td>\n",
       "      <td>-315.499</td>\n",
       "      <td>0</td>\n",
       "    </tr>\n",
       "    <tr>\n",
       "      <th>5</th>\n",
       "      <td>num_compromised</td>\n",
       "      <td>21.6752</td>\n",
       "      <td>5.72851e-104</td>\n",
       "    </tr>\n",
       "    <tr>\n",
       "      <th>6</th>\n",
       "      <td>count</td>\n",
       "      <td>327.579</td>\n",
       "      <td>0</td>\n",
       "    </tr>\n",
       "    <tr>\n",
       "      <th>7</th>\n",
       "      <td>srv_count</td>\n",
       "      <td>9.87121</td>\n",
       "      <td>5.66876e-23</td>\n",
       "    </tr>\n",
       "    <tr>\n",
       "      <th>8</th>\n",
       "      <td>serror_rate</td>\n",
       "      <td>426.401</td>\n",
       "      <td>0</td>\n",
       "    </tr>\n",
       "    <tr>\n",
       "      <th>9</th>\n",
       "      <td>srv_serror_rate</td>\n",
       "      <td>426.958</td>\n",
       "      <td>0</td>\n",
       "    </tr>\n",
       "    <tr>\n",
       "      <th>10</th>\n",
       "      <td>rerror_rate</td>\n",
       "      <td>64.5667</td>\n",
       "      <td>0</td>\n",
       "    </tr>\n",
       "    <tr>\n",
       "      <th>11</th>\n",
       "      <td>srv_rerror_rate</td>\n",
       "      <td>64.8887</td>\n",
       "      <td>0</td>\n",
       "    </tr>\n",
       "    <tr>\n",
       "      <th>12</th>\n",
       "      <td>same_srv_rate</td>\n",
       "      <td>-581.168</td>\n",
       "      <td>0</td>\n",
       "    </tr>\n",
       "    <tr>\n",
       "      <th>13</th>\n",
       "      <td>diff_srv_rate</td>\n",
       "      <td>50.6494</td>\n",
       "      <td>0</td>\n",
       "    </tr>\n",
       "    <tr>\n",
       "      <th>14</th>\n",
       "      <td>srv_diff_host_rate</td>\n",
       "      <td>-94.0527</td>\n",
       "      <td>0</td>\n",
       "    </tr>\n",
       "    <tr>\n",
       "      <th>15</th>\n",
       "      <td>dst_host_count</td>\n",
       "      <td>193.973</td>\n",
       "      <td>0</td>\n",
       "    </tr>\n",
       "    <tr>\n",
       "      <th>16</th>\n",
       "      <td>dst_host_srv_count</td>\n",
       "      <td>-348.048</td>\n",
       "      <td>0</td>\n",
       "    </tr>\n",
       "    <tr>\n",
       "      <th>17</th>\n",
       "      <td>dst_host_same_srv_rate</td>\n",
       "      <td>-393.505</td>\n",
       "      <td>0</td>\n",
       "    </tr>\n",
       "    <tr>\n",
       "      <th>18</th>\n",
       "      <td>dst_host_diff_srv_rate</td>\n",
       "      <td>40.9261</td>\n",
       "      <td>0</td>\n",
       "    </tr>\n",
       "    <tr>\n",
       "      <th>19</th>\n",
       "      <td>dst_host_same_src_port_rate</td>\n",
       "      <td>-51.8726</td>\n",
       "      <td>0</td>\n",
       "    </tr>\n",
       "    <tr>\n",
       "      <th>20</th>\n",
       "      <td>dst_host_srv_diff_host_rate</td>\n",
       "      <td>-84.0902</td>\n",
       "      <td>0</td>\n",
       "    </tr>\n",
       "    <tr>\n",
       "      <th>21</th>\n",
       "      <td>dst_host_serror_rate</td>\n",
       "      <td>427.217</td>\n",
       "      <td>0</td>\n",
       "    </tr>\n",
       "    <tr>\n",
       "      <th>22</th>\n",
       "      <td>dst_host_srv_serror_rate</td>\n",
       "      <td>435.54</td>\n",
       "      <td>0</td>\n",
       "    </tr>\n",
       "    <tr>\n",
       "      <th>23</th>\n",
       "      <td>dst_host_rerror_rate</td>\n",
       "      <td>67.001</td>\n",
       "      <td>0</td>\n",
       "    </tr>\n",
       "    <tr>\n",
       "      <th>24</th>\n",
       "      <td>dst_host_srv_rerror_rate</td>\n",
       "      <td>64.9126</td>\n",
       "      <td>0</td>\n",
       "    </tr>\n",
       "    <tr>\n",
       "      <th>25</th>\n",
       "      <td>last_flag</td>\n",
       "      <td>-106.777</td>\n",
       "      <td>0</td>\n",
       "    </tr>\n",
       "  </tbody>\n",
       "</table>\n",
       "</div>"
      ],
      "text/plain": [
       "                  Variable Name T-Statistic       P-Value\n",
       "0                      duration    -30.7718  4.49334e-207\n",
       "1                     src_bytes     3.17437    0.00150201\n",
       "2                     dst_bytes    -95.2909             0\n",
       "3                           hot    -3.74601    0.00017976\n",
       "4                     logged_in    -315.499             0\n",
       "5               num_compromised     21.6752  5.72851e-104\n",
       "6                         count     327.579             0\n",
       "7                     srv_count     9.87121   5.66876e-23\n",
       "8                   serror_rate     426.401             0\n",
       "9               srv_serror_rate     426.958             0\n",
       "10                  rerror_rate     64.5667             0\n",
       "11              srv_rerror_rate     64.8887             0\n",
       "12                same_srv_rate    -581.168             0\n",
       "13                diff_srv_rate     50.6494             0\n",
       "14           srv_diff_host_rate    -94.0527             0\n",
       "15               dst_host_count     193.973             0\n",
       "16           dst_host_srv_count    -348.048             0\n",
       "17       dst_host_same_srv_rate    -393.505             0\n",
       "18       dst_host_diff_srv_rate     40.9261             0\n",
       "19  dst_host_same_src_port_rate    -51.8726             0\n",
       "20  dst_host_srv_diff_host_rate    -84.0902             0\n",
       "21         dst_host_serror_rate     427.217             0\n",
       "22     dst_host_srv_serror_rate      435.54             0\n",
       "23         dst_host_rerror_rate      67.001             0\n",
       "24     dst_host_srv_rerror_rate     64.9126             0\n",
       "25                    last_flag    -106.777             0"
      ]
     },
     "execution_count": 112,
     "metadata": {},
     "output_type": "execute_result"
    }
   ],
   "source": [
    "## Numerical Variable t test for variable selection\n",
    "tstats_df = pd.DataFrame()\n",
    "for i in num_col:\n",
    "    tstats = stats.ttest_ind(network_data[network_data['attack']==1][i],network_data[network_data['attack']==0][i])\n",
    "    temp = pd.DataFrame([i, tstats[0], tstats[1]]).T\n",
    "    temp.columns = ['Variable Name', 'T-Statistic', 'P-Value']\n",
    "    tstats_df = pd.concat([tstats_df, temp], axis=0, ignore_index=True)\n",
    "tstats_df"
   ]
  },
  {
   "cell_type": "code",
   "execution_count": 113,
   "metadata": {},
   "outputs": [],
   "source": [
    "drop_ttest_col = list(tstats_df[tstats_df[\"P-Value\"] >0.05][\"Variable Name\"])"
   ]
  },
  {
   "cell_type": "code",
   "execution_count": 114,
   "metadata": {},
   "outputs": [
    {
     "data": {
      "text/plain": [
       "[]"
      ]
     },
     "execution_count": 114,
     "metadata": {},
     "output_type": "execute_result"
    }
   ],
   "source": [
    "drop_ttest_col"
   ]
  },
  {
   "cell_type": "code",
   "execution_count": 115,
   "metadata": {},
   "outputs": [],
   "source": [
    "#checking log likelihood"
   ]
  },
  {
   "cell_type": "code",
   "execution_count": 116,
   "metadata": {
    "scrolled": true
   },
   "outputs": [
    {
     "name": "stdout",
     "output_type": "stream",
     "text": [
      "Optimization terminated successfully.\n",
      "         Current function value: 0.643012\n",
      "         Iterations 18\n",
      "Optimization terminated successfully.\n",
      "         Current function value: 0.675121\n",
      "         Iterations 4\n",
      "Optimization terminated successfully.\n",
      "         Current function value: 0.583294\n",
      "         Iterations 9\n",
      "Optimization terminated successfully.\n",
      "         Current function value: 0.675103\n",
      "         Iterations 4\n",
      "Optimization terminated successfully.\n",
      "         Current function value: 0.390306\n",
      "         Iterations 8\n",
      "Optimization terminated successfully.\n",
      "         Current function value: 0.673132\n",
      "         Iterations 5\n",
      "Optimization terminated successfully.\n",
      "         Current function value: 0.362632\n",
      "         Iterations 7\n",
      "Optimization terminated successfully.\n",
      "         Current function value: 0.674741\n",
      "         Iterations 4\n",
      "Optimization terminated successfully.\n",
      "         Current function value: 0.317612\n",
      "         Iterations 8\n",
      "Optimization terminated successfully.\n",
      "         Current function value: 0.316064\n",
      "         Iterations 8\n",
      "Optimization terminated successfully.\n",
      "         Current function value: 0.657651\n",
      "         Iterations 5\n",
      "Optimization terminated successfully.\n",
      "         Current function value: 0.657478\n",
      "         Iterations 5\n",
      "Optimization terminated successfully.\n",
      "         Current function value: 0.232284\n",
      "         Iterations 7\n",
      "Optimization terminated successfully.\n",
      "         Current function value: 0.663457\n",
      "         Iterations 6\n",
      "Optimization terminated successfully.\n",
      "         Current function value: 0.607153\n",
      "         Iterations 9\n",
      "Optimization terminated successfully.\n",
      "         Current function value: 0.519107\n",
      "         Iterations 7\n",
      "Optimization terminated successfully.\n",
      "         Current function value: 0.361065\n",
      "         Iterations 7\n",
      "Optimization terminated successfully.\n",
      "         Current function value: 0.334422\n",
      "         Iterations 7\n",
      "Optimization terminated successfully.\n",
      "         Current function value: 0.667857\n",
      "         Iterations 5\n",
      "Optimization terminated successfully.\n",
      "         Current function value: 0.662105\n",
      "         Iterations 6\n",
      "Optimization terminated successfully.\n",
      "         Current function value: 0.574551\n",
      "         Iterations 9\n",
      "Optimization terminated successfully.\n",
      "         Current function value: 0.316917\n",
      "         Iterations 8\n",
      "Optimization terminated successfully.\n",
      "         Current function value: 0.305201\n",
      "         Iterations 9\n",
      "Optimization terminated successfully.\n",
      "         Current function value: 0.656326\n",
      "         Iterations 5\n",
      "Optimization terminated successfully.\n",
      "         Current function value: 0.657459\n",
      "         Iterations 5\n",
      "Optimization terminated successfully.\n",
      "         Current function value: 0.626322\n",
      "         Iterations 5\n"
     ]
    }
   ],
   "source": [
    "import statsmodels.formula.api as sm\n",
    "llf_df = pd.DataFrame()\n",
    "for i in num_col:\n",
    "    data1 = pd.concat([network_data[network_data[\"attack\"] == 1],network_data[network_data[\"attack\"] == 0]], axis = 0)\n",
    "    logreg = sm.logit(formula =\"attack~\" +i, data=data1)\n",
    "    result = logreg.fit()\n",
    "    summ = result.summary()\n",
    "    temp = pd.DataFrame([i, result.llf]).T\n",
    "    temp.columns = ['Variable Name','Log-Likelihood Full']\n",
    "    llf_df = pd.concat([llf_df, temp], axis=0)"
   ]
  },
  {
   "cell_type": "code",
   "execution_count": 117,
   "metadata": {
    "scrolled": true
   },
   "outputs": [
    {
     "data": {
      "text/html": [
       "<div>\n",
       "<style scoped>\n",
       "    .dataframe tbody tr th:only-of-type {\n",
       "        vertical-align: middle;\n",
       "    }\n",
       "\n",
       "    .dataframe tbody tr th {\n",
       "        vertical-align: top;\n",
       "    }\n",
       "\n",
       "    .dataframe thead th {\n",
       "        text-align: right;\n",
       "    }\n",
       "</style>\n",
       "<table border=\"1\" class=\"dataframe\">\n",
       "  <thead>\n",
       "    <tr style=\"text-align: right;\">\n",
       "      <th></th>\n",
       "      <th>Variable Name</th>\n",
       "      <th>Log-Likelihood Full</th>\n",
       "    </tr>\n",
       "  </thead>\n",
       "  <tbody>\n",
       "    <tr>\n",
       "      <th>0</th>\n",
       "      <td>src_bytes</td>\n",
       "      <td>-76471</td>\n",
       "    </tr>\n",
       "    <tr>\n",
       "      <th>0</th>\n",
       "      <td>hot</td>\n",
       "      <td>-76468.9</td>\n",
       "    </tr>\n",
       "    <tr>\n",
       "      <th>0</th>\n",
       "      <td>srv_count</td>\n",
       "      <td>-76427.9</td>\n",
       "    </tr>\n",
       "    <tr>\n",
       "      <th>0</th>\n",
       "      <td>num_compromised</td>\n",
       "      <td>-76245.6</td>\n",
       "    </tr>\n",
       "    <tr>\n",
       "      <th>0</th>\n",
       "      <td>dst_host_diff_srv_rate</td>\n",
       "      <td>-75648.2</td>\n",
       "    </tr>\n",
       "    <tr>\n",
       "      <th>0</th>\n",
       "      <td>diff_srv_rate</td>\n",
       "      <td>-75149.8</td>\n",
       "    </tr>\n",
       "    <tr>\n",
       "      <th>0</th>\n",
       "      <td>dst_host_same_src_port_rate</td>\n",
       "      <td>-74996.6</td>\n",
       "    </tr>\n",
       "    <tr>\n",
       "      <th>0</th>\n",
       "      <td>rerror_rate</td>\n",
       "      <td>-74492.1</td>\n",
       "    </tr>\n",
       "  </tbody>\n",
       "</table>\n",
       "</div>"
      ],
      "text/plain": [
       "                 Variable Name Log-Likelihood Full\n",
       "0                    src_bytes              -76471\n",
       "0                          hot            -76468.9\n",
       "0                    srv_count            -76427.9\n",
       "0              num_compromised            -76245.6\n",
       "0       dst_host_diff_srv_rate            -75648.2\n",
       "0                diff_srv_rate            -75149.8\n",
       "0  dst_host_same_src_port_rate            -74996.6\n",
       "0                  rerror_rate            -74492.1"
      ]
     },
     "execution_count": 117,
     "metadata": {},
     "output_type": "execute_result"
    }
   ],
   "source": [
    "llf_df.sort_values(by = \"Log-Likelihood Full\").head(8)"
   ]
  },
  {
   "cell_type": "code",
   "execution_count": 118,
   "metadata": {},
   "outputs": [],
   "source": [
    "def dummies(k,j):\n",
    "    x= []\n",
    "    for i in k:\n",
    "        x.append(pd.get_dummies(j[i], prefix =\"d\"))\n",
    "    return(x)\n",
    "cat_dum = dummies(cat_col,network_data)\n",
    "cat_dum_t = dummies(cat_col,network_test)"
   ]
  },
  {
   "cell_type": "code",
   "execution_count": 119,
   "metadata": {},
   "outputs": [],
   "source": [
    "cat_dum_df = pd.DataFrame(pd.concat(cat_dum, axis=1))\n",
    "cat_dum_t_df = pd.DataFrame(pd.concat(cat_dum_t, axis=1))"
   ]
  },
  {
   "cell_type": "code",
   "execution_count": 120,
   "metadata": {
    "scrolled": true
   },
   "outputs": [
    {
     "data": {
      "text/html": [
       "<div>\n",
       "<style scoped>\n",
       "    .dataframe tbody tr th:only-of-type {\n",
       "        vertical-align: middle;\n",
       "    }\n",
       "\n",
       "    .dataframe tbody tr th {\n",
       "        vertical-align: top;\n",
       "    }\n",
       "\n",
       "    .dataframe thead th {\n",
       "        text-align: right;\n",
       "    }\n",
       "</style>\n",
       "<table border=\"1\" class=\"dataframe\">\n",
       "  <thead>\n",
       "    <tr style=\"text-align: right;\">\n",
       "      <th></th>\n",
       "      <th>duration</th>\n",
       "      <th>src_bytes</th>\n",
       "      <th>dst_bytes</th>\n",
       "      <th>hot</th>\n",
       "      <th>logged_in</th>\n",
       "      <th>num_compromised</th>\n",
       "      <th>count</th>\n",
       "      <th>srv_count</th>\n",
       "      <th>serror_rate</th>\n",
       "      <th>srv_serror_rate</th>\n",
       "      <th>...</th>\n",
       "      <th>dst_host_srv_count</th>\n",
       "      <th>dst_host_same_srv_rate</th>\n",
       "      <th>dst_host_diff_srv_rate</th>\n",
       "      <th>dst_host_same_src_port_rate</th>\n",
       "      <th>dst_host_srv_diff_host_rate</th>\n",
       "      <th>dst_host_serror_rate</th>\n",
       "      <th>dst_host_srv_serror_rate</th>\n",
       "      <th>dst_host_rerror_rate</th>\n",
       "      <th>dst_host_srv_rerror_rate</th>\n",
       "      <th>last_flag</th>\n",
       "    </tr>\n",
       "  </thead>\n",
       "  <tbody>\n",
       "    <tr>\n",
       "      <th>0</th>\n",
       "      <td>0.0</td>\n",
       "      <td>0.0</td>\n",
       "      <td>0.0</td>\n",
       "      <td>0.0</td>\n",
       "      <td>0.0</td>\n",
       "      <td>0.0</td>\n",
       "      <td>229.0</td>\n",
       "      <td>10.0</td>\n",
       "      <td>0.0</td>\n",
       "      <td>0.00</td>\n",
       "      <td>...</td>\n",
       "      <td>10.0</td>\n",
       "      <td>0.04</td>\n",
       "      <td>0.06</td>\n",
       "      <td>0.00</td>\n",
       "      <td>0.00</td>\n",
       "      <td>0.0</td>\n",
       "      <td>0.0</td>\n",
       "      <td>1.00</td>\n",
       "      <td>1.00</td>\n",
       "      <td>21.0</td>\n",
       "    </tr>\n",
       "    <tr>\n",
       "      <th>1</th>\n",
       "      <td>0.0</td>\n",
       "      <td>0.0</td>\n",
       "      <td>0.0</td>\n",
       "      <td>0.0</td>\n",
       "      <td>0.0</td>\n",
       "      <td>0.0</td>\n",
       "      <td>136.0</td>\n",
       "      <td>1.0</td>\n",
       "      <td>0.0</td>\n",
       "      <td>0.00</td>\n",
       "      <td>...</td>\n",
       "      <td>1.0</td>\n",
       "      <td>0.00</td>\n",
       "      <td>0.06</td>\n",
       "      <td>0.00</td>\n",
       "      <td>0.00</td>\n",
       "      <td>0.0</td>\n",
       "      <td>0.0</td>\n",
       "      <td>1.00</td>\n",
       "      <td>1.00</td>\n",
       "      <td>21.0</td>\n",
       "    </tr>\n",
       "    <tr>\n",
       "      <th>2</th>\n",
       "      <td>2.0</td>\n",
       "      <td>12983.0</td>\n",
       "      <td>0.0</td>\n",
       "      <td>0.0</td>\n",
       "      <td>0.0</td>\n",
       "      <td>0.0</td>\n",
       "      <td>1.0</td>\n",
       "      <td>1.0</td>\n",
       "      <td>0.0</td>\n",
       "      <td>0.00</td>\n",
       "      <td>...</td>\n",
       "      <td>86.0</td>\n",
       "      <td>0.61</td>\n",
       "      <td>0.04</td>\n",
       "      <td>0.61</td>\n",
       "      <td>0.02</td>\n",
       "      <td>0.0</td>\n",
       "      <td>0.0</td>\n",
       "      <td>0.00</td>\n",
       "      <td>0.00</td>\n",
       "      <td>21.0</td>\n",
       "    </tr>\n",
       "    <tr>\n",
       "      <th>3</th>\n",
       "      <td>0.0</td>\n",
       "      <td>20.0</td>\n",
       "      <td>0.0</td>\n",
       "      <td>0.0</td>\n",
       "      <td>0.0</td>\n",
       "      <td>0.0</td>\n",
       "      <td>1.0</td>\n",
       "      <td>65.0</td>\n",
       "      <td>0.0</td>\n",
       "      <td>0.00</td>\n",
       "      <td>...</td>\n",
       "      <td>57.0</td>\n",
       "      <td>1.00</td>\n",
       "      <td>0.00</td>\n",
       "      <td>1.00</td>\n",
       "      <td>0.28</td>\n",
       "      <td>0.0</td>\n",
       "      <td>0.0</td>\n",
       "      <td>0.00</td>\n",
       "      <td>0.00</td>\n",
       "      <td>15.0</td>\n",
       "    </tr>\n",
       "    <tr>\n",
       "      <th>4</th>\n",
       "      <td>1.0</td>\n",
       "      <td>0.0</td>\n",
       "      <td>15.0</td>\n",
       "      <td>0.0</td>\n",
       "      <td>0.0</td>\n",
       "      <td>0.0</td>\n",
       "      <td>1.0</td>\n",
       "      <td>8.0</td>\n",
       "      <td>0.0</td>\n",
       "      <td>0.12</td>\n",
       "      <td>...</td>\n",
       "      <td>86.0</td>\n",
       "      <td>0.31</td>\n",
       "      <td>0.17</td>\n",
       "      <td>0.03</td>\n",
       "      <td>0.02</td>\n",
       "      <td>0.0</td>\n",
       "      <td>0.0</td>\n",
       "      <td>0.83</td>\n",
       "      <td>0.71</td>\n",
       "      <td>11.0</td>\n",
       "    </tr>\n",
       "  </tbody>\n",
       "</table>\n",
       "<p>5 rows × 26 columns</p>\n",
       "</div>"
      ],
      "text/plain": [
       "   duration  src_bytes  dst_bytes  hot  logged_in  num_compromised  count  \\\n",
       "0       0.0        0.0        0.0  0.0        0.0              0.0  229.0   \n",
       "1       0.0        0.0        0.0  0.0        0.0              0.0  136.0   \n",
       "2       2.0    12983.0        0.0  0.0        0.0              0.0    1.0   \n",
       "3       0.0       20.0        0.0  0.0        0.0              0.0    1.0   \n",
       "4       1.0        0.0       15.0  0.0        0.0              0.0    1.0   \n",
       "\n",
       "   srv_count  serror_rate  srv_serror_rate    ...      dst_host_srv_count  \\\n",
       "0       10.0          0.0             0.00    ...                    10.0   \n",
       "1        1.0          0.0             0.00    ...                     1.0   \n",
       "2        1.0          0.0             0.00    ...                    86.0   \n",
       "3       65.0          0.0             0.00    ...                    57.0   \n",
       "4        8.0          0.0             0.12    ...                    86.0   \n",
       "\n",
       "   dst_host_same_srv_rate  dst_host_diff_srv_rate  \\\n",
       "0                    0.04                    0.06   \n",
       "1                    0.00                    0.06   \n",
       "2                    0.61                    0.04   \n",
       "3                    1.00                    0.00   \n",
       "4                    0.31                    0.17   \n",
       "\n",
       "   dst_host_same_src_port_rate  dst_host_srv_diff_host_rate  \\\n",
       "0                         0.00                         0.00   \n",
       "1                         0.00                         0.00   \n",
       "2                         0.61                         0.02   \n",
       "3                         1.00                         0.28   \n",
       "4                         0.03                         0.02   \n",
       "\n",
       "   dst_host_serror_rate  dst_host_srv_serror_rate  dst_host_rerror_rate  \\\n",
       "0                   0.0                       0.0                  1.00   \n",
       "1                   0.0                       0.0                  1.00   \n",
       "2                   0.0                       0.0                  0.00   \n",
       "3                   0.0                       0.0                  0.00   \n",
       "4                   0.0                       0.0                  0.83   \n",
       "\n",
       "   dst_host_srv_rerror_rate  last_flag  \n",
       "0                      1.00       21.0  \n",
       "1                      1.00       21.0  \n",
       "2                      0.00       21.0  \n",
       "3                      0.00       15.0  \n",
       "4                      0.71       11.0  \n",
       "\n",
       "[5 rows x 26 columns]"
      ]
     },
     "execution_count": 120,
     "metadata": {},
     "output_type": "execute_result"
    }
   ],
   "source": [
    "num_df = network_data[num_col]\n",
    "num_t_df = network_test[num_col]\n",
    "num_t_df.head()"
   ]
  },
  {
   "cell_type": "code",
   "execution_count": 121,
   "metadata": {},
   "outputs": [],
   "source": [
    "new_network_data= pd.concat([cat_dum_df,num_df], axis=1)\n",
    "new_network_test= pd.concat([cat_dum_t_df,num_t_df], axis=1)"
   ]
  },
  {
   "cell_type": "code",
   "execution_count": 122,
   "metadata": {
    "scrolled": true
   },
   "outputs": [
    {
     "name": "stdout",
     "output_type": "stream",
     "text": [
      "(125973, 110)\n",
      "(22544, 104)\n"
     ]
    }
   ],
   "source": [
    "print(new_network_data.shape)\n",
    "print(new_network_test.shape)"
   ]
  },
  {
   "cell_type": "code",
   "execution_count": 123,
   "metadata": {},
   "outputs": [],
   "source": [
    "new_network_data= pd.concat([new_network_data,network_data.attack], axis=1)\n",
    "new_network_test= pd.concat([new_network_test,network_test.attack], axis=1)"
   ]
  },
  {
   "cell_type": "code",
   "execution_count": 124,
   "metadata": {},
   "outputs": [],
   "source": [
    "common_var = []\n",
    "for i in new_network_test.columns:\n",
    "    if i in new_network_data.columns:\n",
    "        common_var.append(i)"
   ]
  },
  {
   "cell_type": "code",
   "execution_count": 125,
   "metadata": {},
   "outputs": [],
   "source": [
    "new_network_test = new_network_test[common_var]\n",
    "new_network_data = new_network_data[common_var]"
   ]
  },
  {
   "cell_type": "code",
   "execution_count": 126,
   "metadata": {},
   "outputs": [],
   "source": [
    "#multi colinear from pandas profiling\n",
    "drp_col = [\"dst_host_rerror_rate\",\"dst_host_srv_rerror_rate\",\"dst_host_serror_rate\",\n",
    "           \"dst_host_srv_serror_rate\",\"srv_serror_rate\",\"srv_rerror_rate\",\"d_S0\"]\n",
    "new_network_data.drop(drp_col,axis=1,inplace= True)\n",
    "new_network_test.drop(drp_col,axis=1,inplace= True)"
   ]
  },
  {
   "cell_type": "code",
   "execution_count": 127,
   "metadata": {
    "scrolled": true
   },
   "outputs": [
    {
     "name": "stdout",
     "output_type": "stream",
     "text": [
      "(125973, 98)\n",
      "(22544, 98)\n"
     ]
    }
   ],
   "source": [
    "print(new_network_data.shape)\n",
    "print(new_network_test.shape)"
   ]
  },
  {
   "cell_type": "code",
   "execution_count": 128,
   "metadata": {
    "scrolled": true
   },
   "outputs": [
    {
     "data": {
      "text/plain": [
       "<matplotlib.axes._subplots.AxesSubplot at 0x1d51f5d3ba8>"
      ]
     },
     "execution_count": 128,
     "metadata": {},
     "output_type": "execute_result"
    },
    {
     "data": {
      "image/png": "[encoded data removed]",
      "text/plain": [
       "<Figure size 432x288 with 2 Axes>"
      ]
     },
     "metadata": {
      "needs_background": "light"
     },
     "output_type": "display_data"
    }
   ],
   "source": [
    "import seaborn as sns\n",
    "corr_all = new_network_data.corr()\n",
    "sns.heatmap(corr_all)"
   ]
  },
  {
   "cell_type": "code",
   "execution_count": 129,
   "metadata": {
    "scrolled": true
   },
   "outputs": [
    {
     "data": {
      "text/html": [
       "<div>\n",
       "<style scoped>\n",
       "    .dataframe tbody tr th:only-of-type {\n",
       "        vertical-align: middle;\n",
       "    }\n",
       "\n",
       "    .dataframe tbody tr th {\n",
       "        vertical-align: top;\n",
       "    }\n",
       "\n",
       "    .dataframe thead th {\n",
       "        text-align: right;\n",
       "    }\n",
       "</style>\n",
       "<table border=\"1\" class=\"dataframe\">\n",
       "  <thead>\n",
       "    <tr style=\"text-align: right;\">\n",
       "      <th></th>\n",
       "      <th>attack</th>\n",
       "    </tr>\n",
       "  </thead>\n",
       "  <tbody>\n",
       "    <tr>\n",
       "      <th>d_icmp</th>\n",
       "      <td>0.292874</td>\n",
       "    </tr>\n",
       "    <tr>\n",
       "      <th>d_tcp</th>\n",
       "      <td>-0.057783</td>\n",
       "    </tr>\n",
       "    <tr>\n",
       "      <th>d_udp</th>\n",
       "      <td>-0.155004</td>\n",
       "    </tr>\n",
       "    <tr>\n",
       "      <th>d_IRC</th>\n",
       "      <td>-0.031346</td>\n",
       "    </tr>\n",
       "    <tr>\n",
       "      <th>d_X11</th>\n",
       "      <td>-0.014244</td>\n",
       "    </tr>\n",
       "  </tbody>\n",
       "</table>\n",
       "</div>"
      ],
      "text/plain": [
       "          attack\n",
       "d_icmp  0.292874\n",
       "d_tcp  -0.057783\n",
       "d_udp  -0.155004\n",
       "d_IRC  -0.031346\n",
       "d_X11  -0.014244"
      ]
     },
     "execution_count": 129,
     "metadata": {},
     "output_type": "execute_result"
    }
   ],
   "source": [
    "corr_y = corr_all[\"attack\"]\n",
    "corr_y_df = pd.DataFrame(corr_y)\n",
    "corr_y_df.head()"
   ]
  },
  {
   "cell_type": "code",
   "execution_count": 130,
   "metadata": {},
   "outputs": [
    {
     "data": {
      "text/html": [
       "<div>\n",
       "<style scoped>\n",
       "    .dataframe tbody tr th:only-of-type {\n",
       "        vertical-align: middle;\n",
       "    }\n",
       "\n",
       "    .dataframe tbody tr th {\n",
       "        vertical-align: top;\n",
       "    }\n",
       "\n",
       "    .dataframe thead th {\n",
       "        text-align: right;\n",
       "    }\n",
       "</style>\n",
       "<table border=\"1\" class=\"dataframe\">\n",
       "  <thead>\n",
       "    <tr style=\"text-align: right;\">\n",
       "      <th></th>\n",
       "      <th>attack</th>\n",
       "    </tr>\n",
       "  </thead>\n",
       "  <tbody>\n",
       "    <tr>\n",
       "      <th>d_icmp</th>\n",
       "      <td>0.292874</td>\n",
       "    </tr>\n",
       "    <tr>\n",
       "      <th>d_tcp</th>\n",
       "      <td>0.057783</td>\n",
       "    </tr>\n",
       "    <tr>\n",
       "      <th>d_udp</th>\n",
       "      <td>0.155004</td>\n",
       "    </tr>\n",
       "    <tr>\n",
       "      <th>d_IRC</th>\n",
       "      <td>0.031346</td>\n",
       "    </tr>\n",
       "    <tr>\n",
       "      <th>d_X11</th>\n",
       "      <td>0.014244</td>\n",
       "    </tr>\n",
       "    <tr>\n",
       "      <th>d_Z39_50</th>\n",
       "      <td>0.052353</td>\n",
       "    </tr>\n",
       "    <tr>\n",
       "      <th>d_auth</th>\n",
       "      <td>0.024511</td>\n",
       "    </tr>\n",
       "  </tbody>\n",
       "</table>\n",
       "</div>"
      ],
      "text/plain": [
       "            attack\n",
       "d_icmp    0.292874\n",
       "d_tcp     0.057783\n",
       "d_udp     0.155004\n",
       "d_IRC     0.031346\n",
       "d_X11     0.014244\n",
       "d_Z39_50  0.052353\n",
       "d_auth    0.024511"
      ]
     },
     "execution_count": 130,
     "metadata": {},
     "output_type": "execute_result"
    }
   ],
   "source": [
    "corr_y_df[\"attack\"] = np.abs(corr_y_df[\"attack\"])\n",
    "corr_y_df.head(7)"
   ]
  },
  {
   "cell_type": "code",
   "execution_count": 131,
   "metadata": {
    "scrolled": true
   },
   "outputs": [
    {
     "data": {
      "text/html": [
       "<div>\n",
       "<style scoped>\n",
       "    .dataframe tbody tr th:only-of-type {\n",
       "        vertical-align: middle;\n",
       "    }\n",
       "\n",
       "    .dataframe tbody tr th {\n",
       "        vertical-align: top;\n",
       "    }\n",
       "\n",
       "    .dataframe thead th {\n",
       "        text-align: right;\n",
       "    }\n",
       "</style>\n",
       "<table border=\"1\" class=\"dataframe\">\n",
       "  <thead>\n",
       "    <tr style=\"text-align: right;\">\n",
       "      <th></th>\n",
       "      <th>attack</th>\n",
       "    </tr>\n",
       "  </thead>\n",
       "  <tbody>\n",
       "    <tr>\n",
       "      <th>d_tim_i</th>\n",
       "      <td>0.002296</td>\n",
       "    </tr>\n",
       "    <tr>\n",
       "      <th>d_tftp_u</th>\n",
       "      <td>0.004043</td>\n",
       "    </tr>\n",
       "    <tr>\n",
       "      <th>d_S3</th>\n",
       "      <td>0.009961</td>\n",
       "    </tr>\n",
       "    <tr>\n",
       "      <th>srv_diff_host_rate</th>\n",
       "      <td>0.010456</td>\n",
       "    </tr>\n",
       "    <tr>\n",
       "      <th>d_pm_dump</th>\n",
       "      <td>0.012935</td>\n",
       "    </tr>\n",
       "  </tbody>\n",
       "</table>\n",
       "</div>"
      ],
      "text/plain": [
       "                      attack\n",
       "d_tim_i             0.002296\n",
       "d_tftp_u            0.004043\n",
       "d_S3                0.009961\n",
       "srv_diff_host_rate  0.010456\n",
       "d_pm_dump           0.012935"
      ]
     },
     "execution_count": 131,
     "metadata": {},
     "output_type": "execute_result"
    }
   ],
   "source": [
    "corr_y_df = corr_y_df.sort_values(by= \"attack\", ascending= True)\n",
    "corr_y_df.head(5)"
   ]
  },
  {
   "cell_type": "code",
   "execution_count": 132,
   "metadata": {},
   "outputs": [],
   "source": [
    "corr_y_df.reset_index(inplace = True)\n"
   ]
  },
  {
   "cell_type": "code",
   "execution_count": 133,
   "metadata": {
    "scrolled": true
   },
   "outputs": [
    {
     "data": {
      "text/html": [
       "<div>\n",
       "<style scoped>\n",
       "    .dataframe tbody tr th:only-of-type {\n",
       "        vertical-align: middle;\n",
       "    }\n",
       "\n",
       "    .dataframe tbody tr th {\n",
       "        vertical-align: top;\n",
       "    }\n",
       "\n",
       "    .dataframe thead th {\n",
       "        text-align: right;\n",
       "    }\n",
       "</style>\n",
       "<table border=\"1\" class=\"dataframe\">\n",
       "  <thead>\n",
       "    <tr style=\"text-align: right;\">\n",
       "      <th></th>\n",
       "      <th>index</th>\n",
       "      <th>attack</th>\n",
       "    </tr>\n",
       "  </thead>\n",
       "  <tbody>\n",
       "    <tr>\n",
       "      <th>0</th>\n",
       "      <td>d_tim_i</td>\n",
       "      <td>0.002296</td>\n",
       "    </tr>\n",
       "    <tr>\n",
       "      <th>1</th>\n",
       "      <td>d_tftp_u</td>\n",
       "      <td>0.004043</td>\n",
       "    </tr>\n",
       "    <tr>\n",
       "      <th>2</th>\n",
       "      <td>d_S3</td>\n",
       "      <td>0.009961</td>\n",
       "    </tr>\n",
       "    <tr>\n",
       "      <th>3</th>\n",
       "      <td>srv_diff_host_rate</td>\n",
       "      <td>0.010456</td>\n",
       "    </tr>\n",
       "    <tr>\n",
       "      <th>4</th>\n",
       "      <td>d_pm_dump</td>\n",
       "      <td>0.012935</td>\n",
       "    </tr>\n",
       "  </tbody>\n",
       "</table>\n",
       "</div>"
      ],
      "text/plain": [
       "                index    attack\n",
       "0             d_tim_i  0.002296\n",
       "1            d_tftp_u  0.004043\n",
       "2                d_S3  0.009961\n",
       "3  srv_diff_host_rate  0.010456\n",
       "4           d_pm_dump  0.012935"
      ]
     },
     "execution_count": 133,
     "metadata": {},
     "output_type": "execute_result"
    }
   ],
   "source": [
    "corr_y_df.head()"
   ]
  },
  {
   "cell_type": "code",
   "execution_count": 134,
   "metadata": {},
   "outputs": [],
   "source": [
    "drop_corr = []\n",
    "for i in list(corr_y_df.attack):\n",
    "    if i < 0.01:\n",
    "        for k in corr_y_df.index:\n",
    "            if corr_y_df.loc[k,\"attack\"] == i:\n",
    "                drop_corr.append(corr_y_df.loc[k,\"index\"])\n",
    "for i in drop_corr:\n",
    "    new_network_data.drop(i, inplace = True, axis = 1)"
   ]
  },
  {
   "cell_type": "code",
   "execution_count": 135,
   "metadata": {},
   "outputs": [
    {
     "data": {
      "text/plain": [
       "(125973, 95)"
      ]
     },
     "execution_count": 135,
     "metadata": {},
     "output_type": "execute_result"
    }
   ],
   "source": [
    "new_network_data.shape"
   ]
  },
  {
   "cell_type": "code",
   "execution_count": 136,
   "metadata": {},
   "outputs": [],
   "source": [
    "#selecting all columns except y column\n",
    "feature_columns = new_network_data.columns.difference( [\"attack\"] )"
   ]
  },
  {
   "cell_type": "code",
   "execution_count": 137,
   "metadata": {},
   "outputs": [],
   "source": [
    "#splitting test and train data\n",
    "train_X = new_network_data[feature_columns]\n",
    "test_X = new_network_test[feature_columns]                                               \n",
    "train_y = new_network_data[\"attack\"]                                       \n",
    "test_y = new_network_test[\"attack\"] "
   ]
  },
  {
   "cell_type": "markdown",
   "metadata": {},
   "source": [
    "### making model using sklearn"
   ]
  },
  {
   "cell_type": "code",
   "execution_count": 138,
   "metadata": {
    "scrolled": true
   },
   "outputs": [
    {
     "name": "stderr",
     "output_type": "stream",
     "text": [
      "C:\\ProgramData\\Anaconda3\\lib\\site-packages\\sklearn\\linear_model\\logistic.py:433: FutureWarning: Default solver will be changed to 'lbfgs' in 0.22. Specify a solver to silence this warning.\n",
      "  FutureWarning)\n",
      "C:\\ProgramData\\Anaconda3\\lib\\site-packages\\sklearn\\linear_model\\logistic.py:460: FutureWarning: Default multi_class will be changed to 'auto' in 0.22. Specify the multi_class option to silence this warning.\n",
      "  \"this warning.\", FutureWarning)\n"
     ]
    },
    {
     "data": {
      "text/plain": [
       "LogisticRegression(C=1.0, class_weight=None, dual=False, fit_intercept=True,\n",
       "          intercept_scaling=1, max_iter=100, multi_class='warn',\n",
       "          n_jobs=None, penalty='l2', random_state=None, solver='warn',\n",
       "          tol=0.0001, verbose=0, warm_start=False)"
      ]
     },
     "execution_count": 138,
     "metadata": {},
     "output_type": "execute_result"
    }
   ],
   "source": [
    "from sklearn.linear_model import LogisticRegression\n",
    "logreg = LogisticRegression()\n",
    "logreg.fit( train_X, train_y )"
   ]
  },
  {
   "cell_type": "code",
   "execution_count": 139,
   "metadata": {},
   "outputs": [
    {
     "data": {
      "text/plain": [
       "array([1, 1, 0, ..., 1, 0, 2], dtype=int64)"
      ]
     },
     "execution_count": 139,
     "metadata": {},
     "output_type": "execute_result"
    }
   ],
   "source": [
    "logreg.predict(test_X)"
   ]
  },
  {
   "cell_type": "code",
   "execution_count": 140,
   "metadata": {
    "scrolled": true
   },
   "outputs": [
    {
     "data": {
      "text/html": [
       "<div>\n",
       "<style scoped>\n",
       "    .dataframe tbody tr th:only-of-type {\n",
       "        vertical-align: middle;\n",
       "    }\n",
       "\n",
       "    .dataframe tbody tr th {\n",
       "        vertical-align: top;\n",
       "    }\n",
       "\n",
       "    .dataframe thead th {\n",
       "        text-align: right;\n",
       "    }\n",
       "</style>\n",
       "<table border=\"1\" class=\"dataframe\">\n",
       "  <thead>\n",
       "    <tr style=\"text-align: right;\">\n",
       "      <th></th>\n",
       "      <th>actual</th>\n",
       "      <th>predicted</th>\n",
       "    </tr>\n",
       "  </thead>\n",
       "  <tbody>\n",
       "    <tr>\n",
       "      <th>18712</th>\n",
       "      <td>0</td>\n",
       "      <td>0</td>\n",
       "    </tr>\n",
       "    <tr>\n",
       "      <th>14032</th>\n",
       "      <td>1</td>\n",
       "      <td>1</td>\n",
       "    </tr>\n",
       "    <tr>\n",
       "      <th>12128</th>\n",
       "      <td>0</td>\n",
       "      <td>0</td>\n",
       "    </tr>\n",
       "    <tr>\n",
       "      <th>21035</th>\n",
       "      <td>0</td>\n",
       "      <td>0</td>\n",
       "    </tr>\n",
       "    <tr>\n",
       "      <th>17227</th>\n",
       "      <td>1</td>\n",
       "      <td>1</td>\n",
       "    </tr>\n",
       "    <tr>\n",
       "      <th>12021</th>\n",
       "      <td>0</td>\n",
       "      <td>0</td>\n",
       "    </tr>\n",
       "    <tr>\n",
       "      <th>4154</th>\n",
       "      <td>0</td>\n",
       "      <td>0</td>\n",
       "    </tr>\n",
       "    <tr>\n",
       "      <th>17354</th>\n",
       "      <td>2</td>\n",
       "      <td>2</td>\n",
       "    </tr>\n",
       "    <tr>\n",
       "      <th>18099</th>\n",
       "      <td>2</td>\n",
       "      <td>2</td>\n",
       "    </tr>\n",
       "    <tr>\n",
       "      <th>20251</th>\n",
       "      <td>1</td>\n",
       "      <td>0</td>\n",
       "    </tr>\n",
       "  </tbody>\n",
       "</table>\n",
       "</div>"
      ],
      "text/plain": [
       "       actual  predicted\n",
       "18712       0          0\n",
       "14032       1          1\n",
       "12128       0          0\n",
       "21035       0          0\n",
       "17227       1          1\n",
       "12021       0          0\n",
       "4154        0          0\n",
       "17354       2          2\n",
       "18099       2          2\n",
       "20251       1          0"
      ]
     },
     "execution_count": 140,
     "metadata": {},
     "output_type": "execute_result"
    }
   ],
   "source": [
    "#Predicting the test cases\n",
    "network_test_pred = pd.DataFrame({ 'actual':  test_y,\n",
    "                            'predicted': logreg.predict(test_X)})\n",
    "network_test_pred.sample(10)"
   ]
  },
  {
   "cell_type": "code",
   "execution_count": 141,
   "metadata": {},
   "outputs": [
    {
     "data": {
      "text/plain": [
       "array([[8915,  519,  269,    8,    0],\n",
       "       [1023, 6058,   49,   35,    2],\n",
       "       [ 133,  202, 2078,    7,    1],\n",
       "       [1570,   24,  231, 1016,   44],\n",
       "       [ 297,    2,    2,   30,   29]], dtype=int64)"
      ]
     },
     "execution_count": 141,
     "metadata": {},
     "output_type": "execute_result"
    }
   ],
   "source": [
    "# Creating a confusion matrix\n",
    "from sklearn import metrics\n",
    "cm = metrics.confusion_matrix(network_test_pred.actual, network_test_pred.predicted)\n",
    "cm"
   ]
  },
  {
   "cell_type": "code",
   "execution_count": 142,
   "metadata": {
    "scrolled": false
   },
   "outputs": [
    {
     "data": {
      "text/plain": [
       "Text(0.5, 15.0, 'Predicted label')"
      ]
     },
     "execution_count": 142,
     "metadata": {},
     "output_type": "execute_result"
    },
    {
     "data": {
      "image/png": "[encoded data removed]",
      "text/plain": [
       "<Figure size 432x288 with 2 Axes>"
      ]
     },
     "metadata": {
      "needs_background": "light"
     },
     "output_type": "display_data"
    }
   ],
   "source": [
    "import matplotlib.pyplot as plt\n",
    "import seaborn as sbn\n",
    "%matplotlib inline\n",
    "sbn.heatmap(cm, annot=True,  fmt='.2f', xticklabels = [\"normal\",\"dos \",\"probe\",\"r2l\",\"u2r\"] , yticklabels = [\"normal\",\"dos\",\"probe\",\"r2l\",\"u2r\"] )\n",
    "plt.ylabel('True label')\n",
    "plt.xlabel('Predicted label')"
   ]
  },
  {
   "cell_type": "code",
   "execution_count": 143,
   "metadata": {},
   "outputs": [
    {
     "data": {
      "text/plain": [
       "0.8026969481902059"
      ]
     },
     "execution_count": 143,
     "metadata": {},
     "output_type": "execute_result"
    }
   ],
   "source": [
    "import sklearn.metrics as metrics\n",
    "#also using sklearn.metrics\n",
    "score = metrics.accuracy_score( network_test_pred.actual, network_test_pred.predicted )\n",
    "score"
   ]
  },
  {
   "cell_type": "markdown",
   "metadata": {},
   "source": [
    "### making model using decision tree"
   ]
  },
  {
   "cell_type": "code",
   "execution_count": 145,
   "metadata": {},
   "outputs": [],
   "source": [
    "import sklearn.tree as dt\n",
    "import sklearn.ensemble as en\n",
    "from sklearn import metrics\n",
    "from sklearn.tree import DecisionTreeClassifier, export_graphviz, export"
   ]
  },
  {
   "cell_type": "code",
   "execution_count": 146,
   "metadata": {},
   "outputs": [],
   "source": [
    "dt_network_data= pd.concat([cat_dum_df,num_df], axis=1)\n",
    "dt_network_test= pd.concat([cat_dum_t_df,num_t_df], axis=1)"
   ]
  },
  {
   "cell_type": "code",
   "execution_count": 147,
   "metadata": {},
   "outputs": [],
   "source": [
    "dt_network_data= pd.concat([dt_network_data,network_data.attack], axis=1)\n",
    "dt_network_test= pd.concat([dt_network_test,network_test.attack], axis=1)"
   ]
  },
  {
   "cell_type": "code",
   "execution_count": 148,
   "metadata": {},
   "outputs": [],
   "source": [
    "common_var = []\n",
    "for i in dt_network_test.columns:\n",
    "    if i in dt_network_data.columns:\n",
    "        common_var.append(i)"
   ]
  },
  {
   "cell_type": "code",
   "execution_count": 149,
   "metadata": {},
   "outputs": [],
   "source": [
    "dt_network_data=dt_network_data[common_var]\n",
    "dt_network_test=dt_network_test[common_var]"
   ]
  },
  {
   "cell_type": "code",
   "execution_count": 150,
   "metadata": {
    "scrolled": true
   },
   "outputs": [],
   "source": [
    "#selecting all columns except y column\n",
    "feature_columns_dt = dt_network_data.columns.difference( [\"attack\"] )"
   ]
  },
  {
   "cell_type": "code",
   "execution_count": 151,
   "metadata": {},
   "outputs": [],
   "source": [
    "train_X_dt = dt_network_data[feature_columns_dt]\n",
    "test_X_dt = dt_network_test[feature_columns_dt]                                               \n",
    "train_y_dt = dt_network_data[\"attack\"]                                       \n",
    "test_y_dt = dt_network_test[\"attack\"] "
   ]
  },
  {
   "cell_type": "code",
   "execution_count": 172,
   "metadata": {
    "scrolled": false
   },
   "outputs": [
    {
     "data": {
      "text/plain": [
       "DecisionTreeClassifier(class_weight=None, criterion='gini', max_depth=15,\n",
       "            max_features=90, max_leaf_nodes=None,\n",
       "            min_impurity_decrease=0.0, min_impurity_split=None,\n",
       "            min_samples_leaf=1, min_samples_split=2,\n",
       "            min_weight_fraction_leaf=0.0, presort=False, random_state=None,\n",
       "            splitter='best')"
      ]
     },
     "execution_count": 172,
     "metadata": {},
     "output_type": "execute_result"
    }
   ],
   "source": [
    "network_data_tree = DecisionTreeClassifier( max_depth = 15,max_features= 90 )\n",
    "network_data_tree.fit( train_X_dt, train_y_dt )"
   ]
  },
  {
   "cell_type": "code",
   "execution_count": 173,
   "metadata": {},
   "outputs": [],
   "source": [
    "tree_test_pred = pd.DataFrame( { 'actual':  test_y_dt,\n",
    "                            'predicted': network_data_tree.predict( test_X_dt )  } )"
   ]
  },
  {
   "cell_type": "code",
   "execution_count": 174,
   "metadata": {},
   "outputs": [
    {
     "data": {
      "text/plain": [
       "0.7853087295954577"
      ]
     },
     "execution_count": 174,
     "metadata": {},
     "output_type": "execute_result"
    }
   ],
   "source": [
    "metrics.accuracy_score( tree_test_pred.actual, tree_test_pred.predicted )"
   ]
  },
  {
   "cell_type": "code",
   "execution_count": 175,
   "metadata": {
    "scrolled": true
   },
   "outputs": [
    {
     "data": {
      "text/plain": [
       "array([[9440,   55,  214,    1,    1],\n",
       "       [1125, 5814,  226,    0,    2],\n",
       "       [ 389,  208, 1824,    0,    0],\n",
       "       [2023,    5,  222,  598,   37],\n",
       "       [ 101,    0,  205,   26,   28]], dtype=int64)"
      ]
     },
     "execution_count": 175,
     "metadata": {},
     "output_type": "execute_result"
    }
   ],
   "source": [
    "cm_dt = metrics.confusion_matrix(tree_test_pred.actual,tree_test_pred.predicted )\n",
    "cm_dt"
   ]
  },
  {
   "cell_type": "code",
   "execution_count": 167,
   "metadata": {},
   "outputs": [
    {
     "data": {
      "text/plain": [
       "Text(0.5, 15.0, 'Predicted label')"
      ]
     },
     "execution_count": 167,
     "metadata": {},
     "output_type": "execute_result"
    },
    {
     "data": {
      "image/png": "[encoded data removed]",
      "text/plain": [
       "<Figure size 432x288 with 2 Axes>"
      ]
     },
     "metadata": {
      "needs_background": "light"
     },
     "output_type": "display_data"
    }
   ],
   "source": [
    "sbn.heatmap(cm_dt, annot=True,  fmt='.2f', xticklabels = [\"normal\",\"dos \",\"probe\",\"r2l\",\"u2r\"] , yticklabels = [\"normal\",\"dos\",\"probe\",\"r2l\",\"u2r\"])\n",
    "plt.ylabel('True label')\n",
    "plt.xlabel('Predicted label')"
   ]
  },
  {
   "cell_type": "code",
   "execution_count": 161,
   "metadata": {},
   "outputs": [],
   "source": [
    "#fine tuning the parameters"
   ]
  },
  {
   "cell_type": "code",
   "execution_count": 162,
   "metadata": {},
   "outputs": [],
   "source": [
    "from sklearn.model_selection import GridSearchCV"
   ]
  },
  {
   "cell_type": "code",
   "execution_count": 176,
   "metadata": {},
   "outputs": [],
   "source": [
    "param_grid = {'max_depth': np.arange(9, 20),\n",
    "             'max_features': np.arange(70,90)}"
   ]
  },
  {
   "cell_type": "code",
   "execution_count": 177,
   "metadata": {
    "scrolled": true
   },
   "outputs": [
    {
     "data": {
      "text/plain": [
       "GridSearchCV(cv=10, error_score='raise-deprecating',\n",
       "       estimator=DecisionTreeClassifier(class_weight=None, criterion='gini', max_depth=None,\n",
       "            max_features=None, max_leaf_nodes=None,\n",
       "            min_impurity_decrease=0.0, min_impurity_split=None,\n",
       "            min_samples_leaf=1, min_samples_split=2,\n",
       "            min_weight_fraction_leaf=0.0, presort=False, random_state=None,\n",
       "            splitter='best'),\n",
       "       fit_params=None, iid='warn', n_jobs=None,\n",
       "       param_grid={'max_depth': array([ 9, 10, 11, 12, 13, 14, 15, 16, 17, 18, 19]), 'max_features': array([70, 71, 72, 73, 74, 75, 76, 77, 78, 79, 80, 81, 82, 83, 84, 85, 86,\n",
       "       87, 88, 89])},\n",
       "       pre_dispatch='2*n_jobs', refit=True, return_train_score='warn',\n",
       "       scoring=None, verbose=0)"
      ]
     },
     "execution_count": 177,
     "metadata": {},
     "output_type": "execute_result"
    }
   ],
   "source": [
    "tree = GridSearchCV(DecisionTreeClassifier(), param_grid, cv = 10)\n",
    "tree.fit( train_X_dt, train_y_dt )"
   ]
  },
  {
   "cell_type": "code",
   "execution_count": 178,
   "metadata": {},
   "outputs": [
    {
     "data": {
      "text/plain": [
       "{'max_depth': 18, 'max_features': 85}"
      ]
     },
     "execution_count": 178,
     "metadata": {},
     "output_type": "execute_result"
    }
   ],
   "source": [
    "tree.best_params_"
   ]
  },
  {
   "cell_type": "code",
   "execution_count": 179,
   "metadata": {},
   "outputs": [
    {
     "data": {
      "text/plain": [
       "0.998793392234844"
      ]
     },
     "execution_count": 179,
     "metadata": {},
     "output_type": "execute_result"
    }
   ],
   "source": [
    "tree.best_score_"
   ]
  },
  {
   "cell_type": "code",
   "execution_count": 259,
   "metadata": {
    "scrolled": false
   },
   "outputs": [
    {
     "data": {
      "text/plain": [
       "DecisionTreeClassifier(class_weight=None, criterion='gini', max_depth=18,\n",
       "            max_features=85, max_leaf_nodes=None,\n",
       "            min_impurity_decrease=0.0, min_impurity_split=None,\n",
       "            min_samples_leaf=1, min_samples_split=2,\n",
       "            min_weight_fraction_leaf=0.0, presort=False, random_state=None,\n",
       "            splitter='best')"
      ]
     },
     "execution_count": 259,
     "metadata": {},
     "output_type": "execute_result"
    }
   ],
   "source": [
    "new_network_data_tree = DecisionTreeClassifier( max_depth = 18, max_features = 85)\n",
    "new_network_data_tree.fit( train_X_dt, train_y_dt )"
   ]
  },
  {
   "cell_type": "code",
   "execution_count": 260,
   "metadata": {},
   "outputs": [],
   "source": [
    "new_tree_test_pred = pd.DataFrame( { 'actual':  test_y_dt,\n",
    "                            'predicted': new_network_data_tree.predict( test_X_dt )  } )"
   ]
  },
  {
   "cell_type": "code",
   "execution_count": 261,
   "metadata": {},
   "outputs": [
    {
     "data": {
      "text/plain": [
       "0.7983498935415189"
      ]
     },
     "execution_count": 261,
     "metadata": {},
     "output_type": "execute_result"
    }
   ],
   "source": [
    "metrics.accuracy_score( new_tree_test_pred.actual, new_tree_test_pred.predicted )"
   ]
  },
  {
   "cell_type": "code",
   "execution_count": 262,
   "metadata": {},
   "outputs": [
    {
     "data": {
      "text/plain": [
       "array([[9401,   34,  272,    4,    0],\n",
       "       [ 902, 6047,  214,    4,    0],\n",
       "       [ 481,  197, 1743,    0,    0],\n",
       "       [1658,    0,  403,  786,   38],\n",
       "       [ 113,    0,  205,   21,   21]], dtype=int64)"
      ]
     },
     "execution_count": 262,
     "metadata": {},
     "output_type": "execute_result"
    }
   ],
   "source": [
    "new_cm_dt = metrics.confusion_matrix(new_tree_test_pred.actual,new_tree_test_pred.predicted )\n",
    "new_cm_dt"
   ]
  },
  {
   "cell_type": "code",
   "execution_count": 263,
   "metadata": {},
   "outputs": [
    {
     "data": {
      "text/plain": [
       "Text(0.5, 15.0, 'Predicted label')"
      ]
     },
     "execution_count": 263,
     "metadata": {},
     "output_type": "execute_result"
    },
    {
     "data": {
      "image/png": "[encoded data removed]",
      "text/plain": [
       "<Figure size 432x288 with 2 Axes>"
      ]
     },
     "metadata": {
      "needs_background": "light"
     },
     "output_type": "display_data"
    }
   ],
   "source": [
    "sbn.heatmap(new_cm_dt, annot=True,  fmt='.2f', xticklabels = [\"normal\",\"dos \",\"probe\",\"r2l\",\"u2r\"] , yticklabels = [\"normal\",\"dos\",\"probe\",\"r2l\",\"u2r\"])\n",
    "plt.ylabel('True label')\n",
    "plt.xlabel('Predicted label')"
   ]
  },
  {
   "cell_type": "code",
   "execution_count": null,
   "metadata": {},
   "outputs": [],
   "source": []
  },
  {
   "cell_type": "code",
   "execution_count": null,
   "metadata": {},
   "outputs": [],
   "source": []
  },
  {
   "cell_type": "code",
   "execution_count": null,
   "metadata": {},
   "outputs": [],
   "source": []
  },
  {
   "cell_type": "code",
   "execution_count": null,
   "metadata": {},
   "outputs": [],
   "source": []
  },
  {
   "cell_type": "code",
   "execution_count": null,
   "metadata": {},
   "outputs": [],
   "source": []
  }
 ],
 "metadata": {
  "kernelspec": {
   "display_name": "Python 3",
   "language": "python",
   "name": "python3"
  },
  "language_info": {
   "codemirror_mode": {
    "name": "ipython",
    "version": 3
   },
   "file_extension": ".py",
   "mimetype": "text/x-python",
   "name": "python",
   "nbconvert_exporter": "python",
   "pygments_lexer": "ipython3",
   "version": "3.7.1"
  }
 },
 "nbformat": 4,
 "nbformat_minor": 2
}
